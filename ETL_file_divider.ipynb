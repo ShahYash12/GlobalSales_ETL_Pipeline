{
  "nbformat": 4,
  "nbformat_minor": 0,
  "metadata": {
    "colab": {
      "provenance": []
    },
    "kernelspec": {
      "name": "python3",
      "display_name": "Python 3"
    },
    "language_info": {
      "name": "python"
    }
  },
  "cells": [
    {
      "cell_type": "code",
      "execution_count": 3,
      "metadata": {
        "id": "sNAkRcsTNyRY",
        "colab": {
          "base_uri": "https://localhost:8080/"
        },
        "outputId": "99d5ffa7-0833-41b8-e6d2-092eee3e0c10"
      },
      "outputs": [
        {
          "output_type": "stream",
          "name": "stdout",
          "text": [
            "Created file: United_Kingdom.csv\n",
            "Created file: France.csv\n",
            "Created file: Australia.csv\n",
            "Created file: Netherlands.csv\n",
            "Created file: Germany.csv\n",
            "Created file: Norway.csv\n",
            "Created file: EIRE.csv\n",
            "Created file: Switzerland.csv\n",
            "Created file: Spain.csv\n",
            "Created file: Poland.csv\n",
            "Created file: Portugal.csv\n",
            "Created file: Italy.csv\n",
            "Created file: Belgium.csv\n",
            "Created file: Lithuania.csv\n",
            "Created file: Japan.csv\n",
            "Created file: Iceland.csv\n",
            "Created file: Channel_Islands.csv\n",
            "Created file: Denmark.csv\n",
            "Created file: Cyprus.csv\n",
            "Created file: Sweden.csv\n",
            "Created file: Austria.csv\n",
            "Created file: Israel.csv\n",
            "Created file: Finland.csv\n",
            "Created file: Bahrain.csv\n",
            "Created file: Greece.csv\n",
            "Created file: Hong_Kong.csv\n",
            "Created file: Singapore.csv\n",
            "Created file: Lebanon.csv\n",
            "Created file: United_Arab_Emirates.csv\n",
            "Created file: Saudi_Arabia.csv\n",
            "Created file: Czech_Republic.csv\n",
            "Created file: Canada.csv\n",
            "Created file: Unspecified.csv\n",
            "Created file: Brazil.csv\n",
            "Created file: USA.csv\n",
            "Created file: European_Community.csv\n",
            "Created file: Malta.csv\n",
            "Created file: RSA.csv\n"
          ]
        }
      ],
      "source": [
        "# prompt: help me write a code to divide the records and create new file for each country record\n",
        "\n",
        "import pandas as pd\n",
        "\n",
        "# Assuming your data is in a CSV file named 'data.csv' and has a 'Country' column\n",
        "# Replace 'data.csv' with your actual file name\n",
        "try:\n",
        "    # Try reading with utf-8 first (default)\n",
        "    df = pd.read_csv('data.csv')\n",
        "except UnicodeDecodeError:\n",
        "    # If UnicodeDecodeError occurs, try reading with a different encoding like 'latin-1'\n",
        "    try:\n",
        "        df = pd.read_csv('data.csv', encoding='latin-1')\n",
        "    except Exception as e:\n",
        "        # Handle other potential errors during reading with latin-1\n",
        "        print(f\"Error reading data.csv with latin-1 encoding: {e}\")\n",
        "        exit()\n",
        "except FileNotFoundError:\n",
        "    print(\"Error: 'data.csv' not found. Please make sure the file is in the correct directory.\")\n",
        "    # You might want to exit or handle this error appropriately\n",
        "    exit()\n",
        "except Exception as e:\n",
        "    # Handle any other unexpected errors during file reading\n",
        "    print(f\"An unexpected error occurred while reading data.csv: {e}\")\n",
        "    exit()\n",
        "\n",
        "\n",
        "# Get unique countries\n",
        "countries = df['Country'].unique()\n",
        "\n",
        "# Create a new file for each country\n",
        "for country in countries:\n",
        "    # Filter the DataFrame for the current country\n",
        "    country_df = df[df['Country'] == country]\n",
        "\n",
        "    # Create a new filename based on the country name\n",
        "    # Replace spaces with underscores and add a .csv extension\n",
        "    filename = f\"{country.replace(' ', '_')}.csv\"\n",
        "\n",
        "    # Save the country-specific DataFrame to a new CSV file\n",
        "    country_df.to_csv(filename, index=False)\n",
        "    print(f\"Created file: {filename}\")"
      ]
    }
  ]
}